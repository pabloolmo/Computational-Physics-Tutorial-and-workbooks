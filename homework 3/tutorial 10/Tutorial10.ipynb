{
 "cells": [
  {
   "cell_type": "markdown",
   "metadata": {},
   "source": [
    "# Tutorial 10: Vibrating Strings \n",
    "\n",
    "In this tutorial you will find the solution of one-dimensional wave equation using finite difference method. \n",
    "\n",
    "### Preliminary assignments:\n",
    "1- Read sections 21.1 and 21.2 of the book. \n",
    "\n",
    "2- Read the theory of Hyperbolic wave equation and explain all the assumptions behind the wave equation (equation 21.4 of the book)\n",
    "\n",
    "3- Read and understand how to obtain the final numerical formulation for solving 1D wave equation. \n",
    "\n",
    "4- Write a pseudocode for solving 1D wave equation.\n",
    "\n"
   ]
  },
  {
   "attachments": {
    "tutorial10.png": {
     "image/png": "[encoded data removed]"
    }
   },
   "cell_type": "markdown",
   "metadata": {},
   "source": [
    "# Exercise 1: Vibration of strings\n",
    "\n",
    "-  Consider a string of length $L$ tied down at both ends (see figure). The string has a constant density $\\rho$ per unit length, a constant tension $T$, no frictional forces acting on it, and a tension that is so high that we may ignore sagging as a result of gravity. We assume that the displacement of the string from its rest position $y(x, t)$ is in the vertical direction only and that it is a function of the horizontal location along the string $x$ and the time $t$.\n",
    "\n",
    "![tutorial10.png](attachment:tutorial10.png)\n",
    "\n",
    "\n",
    "-  The 1D wave equation can be written as: $$\\frac{\\partial^2 y(x,t)}{\\partial x^2}=\\frac{1}{c^2}\\frac{\\partial^2 y(x,t)}{\\partial t^2},$$ \n",
    "\n",
    "\n",
    "$$c=\\sqrt{\\frac{T}{\\rho}}$$ \n",
    "\n",
    "-  To find the solution to the wave equation you need two boundary conditions and two initial conditions. In this tutorial we will use the following boundary conditions (fixed boundary conditions at $x=0,L$).  $$y(0,t)=0$$ $$y(L,t)=0$$ For the initial conditions first we choose an arbitrary shape for the initial configuration ($t=0$) of the string which satisfies the boundary conditions (you will use different functions for $f(x)$, see equation below). The second initial condition is that the string is released from rest. \n",
    "\n",
    "\n",
    "$$y(x,0)= f(x)$$ \n",
    "\n",
    "$$\\frac{\\partial y(x,t=0)}{\\partial t}=0$$\n",
    "\n",
    "\n",
    "-  The length of the string is $L = 1m$ with the space grid set at 101 points, corresponding to $\\Delta = 0.01 m$. The values of density and tension are entered as constants, $\\rho = 0.01 kg∕m$ and $T =40 N$.\n",
    "\n",
    "\n",
    "#### Programming steps and Questions\n",
    "\n",
    "Note 1: Please see #Q* inside the code cell below for where to insert the code.\n",
    "\n",
    "1. We use the central-difference approximation to discretize the wave equation into a difference equation (see below). This form permits us to predict the future solution from the present and past solutions. Complete the code and add the following expression. Explain why you cannot use this expression for the first time step. \n",
    "$$y_{i,j+1}=2y_{i,j}-y_{i,j-1}+\\frac{c^2}{c'^2}[y_{i+1,j}+y_{i-1,j}-2y_{i,j}],$$\n",
    "\n",
    "\n",
    "$$c'=\\frac{\\Delta(x)}{\\Delta(t)}$$\n",
    "\n",
    "2. As you can see initializing the recurrence relation is a bit tricky because it requires displacements from two earlier times, whereas the initial conditions are for only one time. Nonetheless, the rest condition ( $\\frac{\\partial y(x,0)}{\\partial t}=0$) when combined with the central-difference approximation lets us extrapolate to negative time to obtain the following expression for the $\\textbf{first step}$ (equation 21.23 of the book). Add this expression to your code.\n",
    "$$y_{i,2}=y_{i,1}+\\frac{c^2}{2c'^2}[y_{i+1,1}+y_{i-1,1}-2y_{i,1}],$$ \n",
    "\n",
    "3. Append the solutions for the next step to curve object \"\"vibst\"\", and update the present and past time solutions. In this way, we only need to store the solutions for three time steps which saves memory.\n",
    " \n",
    "\n",
    "4. Use $f(x)=0.1sin(i\\frac{\\pi}{100})$ and run your code. Which normal mode is excited? Is it a traveling or standing wave? Change the initial condition to excite higher normal modes. Hint: change the period of the initial sine wave.\n",
    "\n",
    "\n",
    "5. Explore a number of space and time step combinations. In particular, try steps that satisfy and that do not satisfy the Courant condition. Does your exploration confirm the stability condition? (According to Courant stability condition solution will be stable for the general class of transport equations if $c\\leq c'=\\frac{\\Delta x}{\\Delta t}$)\n",
    "\n",
    "\n",
    "6. Use the following functions as the initial configuaration of string $y(x,t=0)$. For each case examine the vibration mode and decide whether you have a standing wave or a travelling wave (observe whether the pulses move or just oscillate up and down). \n",
    "\n",
    "$$f(x)=0.1sin(4i\\frac{\\pi}{100})$$\n",
    "\n",
    "$$f(x)=0.1sin(i\\frac{\\pi}{100})+0.1sin(2i\\frac{\\pi}{100})$$\n",
    "\n",
    "$$ f(x)=\\begin{cases} \n",
    "      0 & x\\leq 40 \\\\\n",
    "      0.1\\exp(\\frac{-(0.01i-0.5)^{2}}{0.0008}) & 40\\leq x\\leq 60 \\\\\n",
    "      0 & x>60 \n",
    "   \\end{cases}\n",
    "$$\n",
    "\n",
    "\n",
    "$$ f(x)=\\begin{cases} \n",
    "      0 & x\\leq 10 \\\\\n",
    "      0.1\\exp(\\frac{-(0.01i-0.2)^{2}}{0.0008}) & 10\\leq x\\leq 30 \\\\\n",
    "      0 & x>30 \n",
    "   \\end{cases}\n",
    "$$\n",
    "\n",
    "\n",
    "$$ f(x)=\\begin{cases} \n",
    "      0 & x\\leq 10 \\\\\n",
    "      0.1\\exp(\\frac{-(0.01i-0.2)^{2}}{0.0008}) & 10\\leq x\\leq 30 \\\\\n",
    "      0 & 30<x<70 \\\\\n",
    "      0.1\\exp(\\frac{-(0.01i-0.8)^{2}}{0.0008}) & 70\\leq x\\leq 90 \\\\\n",
    "      0 & x> 90 \\\\\n",
    "   \\end{cases}\n",
    "$$\n",
    "\n",
    "$$ f(x)=\\begin{cases} \n",
    "      0 & x\\leq 10 \\\\\n",
    "      0.1\\exp(\\frac{-(0.01i-0.2)^{2}}{0.0008}) & 10\\leq x\\leq 30 \\\\\n",
    "      0 & 30<x<70 \\\\\n",
    "      -0.1\\exp(\\frac{-(0.01i-0.8)^{2}}{0.0008}) & 70\\leq x\\leq 90 \\\\\n",
    "      0 & x> 90 \\\\\n",
    "   \\end{cases}\n",
    "$$\n",
    "\n",
    "\n",
    "7. Explain what happens when traveling waves collide or reach the boundaries.  \n",
    "\n",
    "\n"
   ]
  },
  {
   "cell_type": "code",
   "execution_count": null,
   "metadata": {
    "scrolled": true
   },
   "outputs": [
    {
     "data": {
      "application/javascript": [
       "require.undef(\"nbextensions/vpython_libraries/glow.min\");"
      ],
      "text/plain": [
       "<IPython.core.display.Javascript object>"
      ]
     },
     "metadata": {},
     "output_type": "display_data"
    },
    {
     "data": {
      "application/javascript": [
       "require.undef(\"nbextensions/vpython_libraries/glowcomm\");"
      ],
      "text/plain": [
       "<IPython.core.display.Javascript object>"
      ]
     },
     "metadata": {},
     "output_type": "display_data"
    },
    {
     "data": {
      "application/javascript": [
       "require.undef(\"nbextensions/vpython_libraries/jquery-ui.custom.min\");"
      ],
      "text/plain": [
       "<IPython.core.display.Javascript object>"
      ]
     },
     "metadata": {},
     "output_type": "display_data"
    },
    {
     "data": {
      "application/javascript": [
       "require([\"nbextensions/vpython_libraries/glow.min\"], function(){console.log(\"GLOW LOADED\");})"
      ],
      "text/plain": [
       "<IPython.core.display.Javascript object>"
      ]
     },
     "metadata": {},
     "output_type": "display_data"
    },
    {
     "data": {
      "application/javascript": [
       "require([\"nbextensions/vpython_libraries/glowcomm\"], function(){console.log(\"GLOWCOMM LOADED\");})"
      ],
      "text/plain": [
       "<IPython.core.display.Javascript object>"
      ]
     },
     "metadata": {},
     "output_type": "display_data"
    },
    {
     "data": {
      "application/javascript": [
       "require([\"nbextensions/vpython_libraries/jquery-ui.custom.min\"], function(){console.log(\"JQUERY LOADED\");})"
      ],
      "text/plain": [
       "<IPython.core.display.Javascript object>"
      ]
     },
     "metadata": {},
     "output_type": "display_data"
    },
    {
     "data": {
      "text/html": [
       "<div id=\"glowscript\" class=\"glowscript\"></div>"
      ],
      "text/plain": [
       "<IPython.core.display.HTML object>"
      ]
     },
     "metadata": {},
     "output_type": "display_data"
    },
    {
     "data": {
      "application/javascript": [
       "window.__context = { glowscript_container: $(\"#glowscript\").removeAttr(\"id\")}"
      ],
      "text/plain": [
       "<IPython.core.display.Javascript object>"
      ]
     },
     "metadata": {},
     "output_type": "display_data"
    },
    {
     "data": {
      "text/html": [
       "<div id=\"glowscript\" class=\"glowscript\"></div>"
      ],
      "text/plain": [
       "<IPython.core.display.HTML object>"
      ]
     },
     "metadata": {},
     "output_type": "display_data"
    },
    {
     "data": {
      "application/javascript": [
       "window.__context = { glowscript_container: $(\"#glowscript\").removeAttr(\"id\")}"
      ],
      "text/plain": [
       "<IPython.core.display.Javascript object>"
      ]
     },
     "metadata": {},
     "output_type": "display_data"
    },
    {
     "data": {
      "text/html": [
       "<div id=\"glowscript\" class=\"glowscript\"></div>"
      ],
      "text/plain": [
       "<IPython.core.display.HTML object>"
      ]
     },
     "metadata": {},
     "output_type": "display_data"
    },
    {
     "data": {
      "application/javascript": [
       "window.__context = { glowscript_container: $(\"#glowscript\").removeAttr(\"id\")}"
      ],
      "text/plain": [
       "<IPython.core.display.Javascript object>"
      ]
     },
     "metadata": {},
     "output_type": "display_data"
    }
   ],
   "source": [
    "from vpython import *\n",
    "import numpy as np\n",
    "scene1=canvas()\n",
    "x = np.zeros((100), float)\n",
    "y = np.zeros((100), float)\n",
    "\n",
    "# Set up curve\n",
    "g = canvas(canvas=scene1, width = 600, height = 300, title = 'Vibrating string')\n",
    "vibst = curve(vector(x[0],y[0],0), color = color.yellow)\n",
    "ball1 = sphere(pos = vector(100, 0,0), color = color.red, radius = 2)\n",
    "ball2 = sphere(pos = vector( - 100, 0,0), color = color.red, radius = 2)\n",
    "ball1.pos\n",
    "ball2.pos\n",
    "vibst.radius = 1.0\n",
    "\n",
    "# Parameters\n",
    "rho   = 0.01  \n",
    "ten   = 40                                               \n",
    "c     = sqrt(ten/rho)                                  \n",
    "c1    = c                                                # CFL criterium\n",
    "ratio =  c*c/(c1*c1)\n",
    "\n",
    "# Initialization\n",
    "xi = np.zeros((101,3), float)      \n",
    "\n",
    "for i in range(0, 101):     xi[i, 0] = 0.1*sin(4*i*pi/100);                                            #### Here you can edit the initial configuration of the string####\n",
    "                                                      #Q4. Edit xi array to define the initial configuration of your string#\n",
    "for i in range(0, 100):                                      # we use this mapping for better visualization\n",
    "    x[i] = 2.0*i - 100.0                            \n",
    "    y[i] = 300.*xi[i, 0]\n",
    "    vibst.append(vector(x[i],y[i],0))\n",
    "\n",
    "                 \n",
    "xi[i,1]=xi[i,0]+0.5*ratio*(xi[i+1,0]+xi[i-1,0]-2*xi[i,0]) \n",
    "        \n",
    "while 1:                               \n",
    "    rate(10)                                            \n",
    "    for i in range(1, 100):     \n",
    "        xi[i,2]=2*xi[i,1]-xi[i,0]+ratio*(xi[i+1,1]+ xi[i-1,1]-2*xi[i,1])\n",
    "    \n",
    "        vibst.clear()\n",
    "    for i in range(1, 100):      \n",
    "        x[i] = 2.0*i - 100.0                            \n",
    "        y[i] = 300.*xi[i, 0]\n",
    "        vibst.append(vector(x[i],y[i],0))                                                                               \n",
    "    for i in range(0, 101):\n",
    "        xi[i,0]=xi[i,1] \n",
    "        xi[i,1]=xi[i,2]                                                               \n",
    "                              \n",
    "\n"
   ]
  },
  {
   "cell_type": "code",
   "execution_count": null,
   "metadata": {},
   "outputs": [],
   "source": []
  },
  {
   "cell_type": "code",
   "execution_count": null,
   "metadata": {},
   "outputs": [],
   "source": []
  }
 ],
 "metadata": {
  "kernelspec": {
   "display_name": "Python 3",
   "language": "python",
   "name": "python3"
  },
  "language_info": {
   "codemirror_mode": {
    "name": "ipython",
    "version": 3
   },
   "file_extension": ".py",
   "mimetype": "text/x-python",
   "name": "python",
   "nbconvert_exporter": "python",
   "pygments_lexer": "ipython3",
   "version": "3.6.5"
  }
 },
 "nbformat": 4,
 "nbformat_minor": 2
}
