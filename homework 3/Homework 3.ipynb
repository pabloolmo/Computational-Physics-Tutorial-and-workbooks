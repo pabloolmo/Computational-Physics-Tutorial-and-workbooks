{
 "cells": [
  {
   "cell_type": "markdown",
   "metadata": {},
   "source": [
    "# HW3: Vibration of strings with friction\n",
    "\n",
    "\n",
    "### Preliminary tasks:\n",
    "\n",
    "Read and understand section 21.2 and 21.3 of the book and then finish tutorial 10 (vibration of string without friction) to get ready to start this Homework assignment.\n",
    "\n",
    "## 1D wave equation with friction\n",
    "\n",
    "In this homework you will find the solution of 1D wave equation by considering the effect of viscousity of medium. Including the friction effect changes the wave equation to (read section 21.3 for more details):\n",
    "\n",
    "$$\\frac{\\partial^2 y(x,t)}{\\partial x^2}=\\frac{1}{c^2}\\frac{\\partial^2 y(x,t)}{\\partial t^2}-\\frac{2\\kappa}{\\rho}\\frac{\\partial y(x,t)}{\\partial t},$$\n",
    "\n",
    "$$c=\\sqrt{\\frac{T}{\\rho}}$$ \n",
    "\n",
    "where $\\rho$ and $T$ are density per unit length and tension $T$ of the string. $\\kappa$ is a constant that is proportional to the viscosity of the medium in which the string is vibrating. \n",
    "\n",
    "### Tasks:\n",
    "\n",
    "1. Generalize the algorithm (equations 21.21 and 21.23 of the book) to solve the wave equation with friction. You need to discritize the wave equation to obtain an expression for $y_{i,j+1}$ using the central difference formula for the second derevatives and forward difference for the first derivative (see below). Obtain two expressions one for solving the first time step and another one for solving later time steps.    \n",
    "\n",
    "$$\\frac{\\partial^2 y}{\\partial t^2} \\approx \\frac{y_{i,j+1}+y_{i,j-1}-2y_{i,j}}{(\\Delta t)^2}$$\n",
    "\n",
    "$$\\frac{\\partial^2 y}{\\partial x^2} \\approx \\frac{y_{i+1,j}+y_{i-1,j}-2y_{i,j}}{(\\Delta x)^2}$$\n",
    "\n",
    "$$\\frac{\\partial y}{\\partial t} \\approx \\frac{y_{i,j+1}-y_{i,j}}{\\Delta t}$$\n",
    "\n",
    "2. Complete the code by adding the expressions you found in the previous step. Run your code with following parameters and check if the wave’s behavior seems physical (damps in time). $$T = 40N$$ $$\\rho = 0.01 kg∕m$$  $$\\Delta x=0.01$$ $$\\Delta t=0.0001$$ $$\\kappa =0.1$$ Can this value of $\\kappa$ stop the oscillation? \n",
    "\n",
    "\n",
    "3. As a check, reverse the sign of $\\kappa$ and see if the wave grows in time (which would eventually violate our assumption of small oscillations). Plot the position of the middle point of the spring vs. time for $\\kappa=-0.1,0,0.1$. Note: To make a plot  you need to store the position of the middle point in a list every time step\n"
   ]
  },
  {
   "cell_type": "code",
   "execution_count": 1,
   "metadata": {},
   "outputs": [
    {
     "data": {
      "application/javascript": [
       "require.undef(\"nbextensions/vpython_libraries/glow.min\");"
      ],
      "text/plain": [
       "<IPython.core.display.Javascript object>"
      ]
     },
     "metadata": {},
     "output_type": "display_data"
    },
    {
     "data": {
      "application/javascript": [
       "require.undef(\"nbextensions/vpython_libraries/glowcomm\");"
      ],
      "text/plain": [
       "<IPython.core.display.Javascript object>"
      ]
     },
     "metadata": {},
     "output_type": "display_data"
    },
    {
     "data": {
      "application/javascript": [
       "require.undef(\"nbextensions/vpython_libraries/jquery-ui.custom.min\");"
      ],
      "text/plain": [
       "<IPython.core.display.Javascript object>"
      ]
     },
     "metadata": {},
     "output_type": "display_data"
    },
    {
     "data": {
      "application/javascript": [
       "require([\"nbextensions/vpython_libraries/glow.min\"], function(){console.log(\"GLOW LOADED\");})"
      ],
      "text/plain": [
       "<IPython.core.display.Javascript object>"
      ]
     },
     "metadata": {},
     "output_type": "display_data"
    },
    {
     "data": {
      "application/javascript": [
       "require([\"nbextensions/vpython_libraries/glowcomm\"], function(){console.log(\"GLOWCOMM LOADED\");})"
      ],
      "text/plain": [
       "<IPython.core.display.Javascript object>"
      ]
     },
     "metadata": {},
     "output_type": "display_data"
    },
    {
     "data": {
      "application/javascript": [
       "require([\"nbextensions/vpython_libraries/jquery-ui.custom.min\"], function(){console.log(\"JQUERY LOADED\");})"
      ],
      "text/plain": [
       "<IPython.core.display.Javascript object>"
      ]
     },
     "metadata": {},
     "output_type": "display_data"
    },
    {
     "data": {
      "text/html": [
       "<div id=\"glowscript\" class=\"glowscript\"></div>"
      ],
      "text/plain": [
       "<IPython.core.display.HTML object>"
      ]
     },
     "metadata": {},
     "output_type": "display_data"
    },
    {
     "data": {
      "application/javascript": [
       "window.__context = { glowscript_container: $(\"#glowscript\").removeAttr(\"id\")}"
      ],
      "text/plain": [
       "<IPython.core.display.Javascript object>"
      ]
     },
     "metadata": {},
     "output_type": "display_data"
    },
    {
     "data": {
      "text/html": [
       "<div id=\"glowscript\" class=\"glowscript\"></div>"
      ],
      "text/plain": [
       "<IPython.core.display.HTML object>"
      ]
     },
     "metadata": {},
     "output_type": "display_data"
    },
    {
     "data": {
      "application/javascript": [
       "window.__context = { glowscript_container: $(\"#glowscript\").removeAttr(\"id\")}"
      ],
      "text/plain": [
       "<IPython.core.display.Javascript object>"
      ]
     },
     "metadata": {},
     "output_type": "display_data"
    },
    {
     "data": {
      "text/html": [
       "<div id=\"glowscript\" class=\"glowscript\"></div>"
      ],
      "text/plain": [
       "<IPython.core.display.HTML object>"
      ]
     },
     "metadata": {},
     "output_type": "display_data"
    },
    {
     "data": {
      "application/javascript": [
       "window.__context = { glowscript_container: $(\"#glowscript\").removeAttr(\"id\")}"
      ],
      "text/plain": [
       "<IPython.core.display.Javascript object>"
      ]
     },
     "metadata": {},
     "output_type": "display_data"
    },
    {
     "ename": "KeyboardInterrupt",
     "evalue": "",
     "output_type": "error",
     "traceback": [
      "\u001b[1;31m---------------------------------------------------------------------------\u001b[0m",
      "\u001b[1;31mKeyboardInterrupt\u001b[0m                         Traceback (most recent call last)",
      "\u001b[1;32m<ipython-input-1-0fd6ba09d2b9>\u001b[0m in \u001b[0;36m<module>\u001b[1;34m()\u001b[0m\n\u001b[0;32m     43\u001b[0m                             \u001b[1;31m####Programming task: Add an expression to solve the wave equation (for later time steps)####\u001b[0m\u001b[1;33m\u001b[0m\u001b[1;33m\u001b[0m\u001b[0m\n\u001b[0;32m     44\u001b[0m         \u001b[0mxi\u001b[0m\u001b[1;33m[\u001b[0m\u001b[0mi\u001b[0m\u001b[1;33m,\u001b[0m\u001b[1;36m2\u001b[0m\u001b[1;33m]\u001b[0m\u001b[1;33m=\u001b[0m\u001b[1;33m(\u001b[0m\u001b[0mdt\u001b[0m\u001b[1;33m*\u001b[0m\u001b[1;33m(\u001b[0m\u001b[0mT\u001b[0m\u001b[1;33m/\u001b[0m\u001b[0mrho\u001b[0m\u001b[1;33m)\u001b[0m\u001b[1;33m*\u001b[0m\u001b[1;33m(\u001b[0m\u001b[1;33m(\u001b[0m\u001b[0mxi\u001b[0m\u001b[1;33m[\u001b[0m \u001b[0mi\u001b[0m\u001b[1;33m+\u001b[0m\u001b[1;36m1\u001b[0m\u001b[1;33m,\u001b[0m\u001b[1;36m1\u001b[0m\u001b[1;33m]\u001b[0m\u001b[1;33m-\u001b[0m\u001b[0mxi\u001b[0m\u001b[1;33m[\u001b[0m\u001b[0mi\u001b[0m\u001b[1;33m,\u001b[0m\u001b[1;36m1\u001b[0m\u001b[1;33m]\u001b[0m\u001b[1;33m)\u001b[0m\u001b[1;33m/\u001b[0m\u001b[0mdx\u001b[0m\u001b[1;33m*\u001b[0m\u001b[1;33m(\u001b[0m\u001b[0mexp\u001b[0m\u001b[1;33m(\u001b[0m\u001b[1;33m(\u001b[0m\u001b[0mi\u001b[0m\u001b[1;33m-\u001b[0m\u001b[1;36m50\u001b[0m\u001b[1;33m)\u001b[0m\u001b[1;33m*\u001b[0m\u001b[0mdx\u001b[0m\u001b[1;33m/\u001b[0m\u001b[0mD\u001b[0m\u001b[1;33m)\u001b[0m \u001b[1;33m-\u001b[0m \u001b[0mexp\u001b[0m\u001b[1;33m(\u001b[0m\u001b[1;33m-\u001b[0m\u001b[1;33m(\u001b[0m\u001b[0mi\u001b[0m\u001b[1;33m-\u001b[0m\u001b[1;36m50\u001b[0m\u001b[1;33m)\u001b[0m\u001b[1;33m*\u001b[0m\u001b[0mdx\u001b[0m\u001b[1;33m/\u001b[0m\u001b[0mD\u001b[0m\u001b[1;33m)\u001b[0m\u001b[1;33m)\u001b[0m\u001b[1;33m/\u001b[0m\u001b[0mD\u001b[0m \u001b[1;33m+\u001b[0m \u001b[1;33m(\u001b[0m\u001b[0mexp\u001b[0m\u001b[1;33m(\u001b[0m\u001b[1;33m(\u001b[0m\u001b[0mi\u001b[0m\u001b[1;33m-\u001b[0m\u001b[1;36m50\u001b[0m\u001b[1;33m)\u001b[0m\u001b[1;33m*\u001b[0m\u001b[0mdx\u001b[0m\u001b[1;33m/\u001b[0m\u001b[0mD\u001b[0m\u001b[1;33m)\u001b[0m \u001b[1;33m+\u001b[0m \u001b[0mexp\u001b[0m\u001b[1;33m(\u001b[0m\u001b[1;33m-\u001b[0m\u001b[1;33m(\u001b[0m\u001b[0mi\u001b[0m\u001b[1;33m-\u001b[0m\u001b[1;36m50\u001b[0m\u001b[1;33m)\u001b[0m\u001b[1;33m*\u001b[0m\u001b[0mdx\u001b[0m\u001b[1;33m/\u001b[0m\u001b[0mD\u001b[0m\u001b[1;33m)\u001b[0m\u001b[1;33m)\u001b[0m \u001b[1;33m*\u001b[0m \u001b[1;33m(\u001b[0m\u001b[0mxi\u001b[0m\u001b[1;33m[\u001b[0m\u001b[0mi\u001b[0m\u001b[1;33m+\u001b[0m\u001b[1;36m1\u001b[0m\u001b[1;33m,\u001b[0m\u001b[1;36m1\u001b[0m\u001b[1;33m]\u001b[0m\u001b[1;33m+\u001b[0m\u001b[0mxi\u001b[0m\u001b[1;33m[\u001b[0m\u001b[0mi\u001b[0m\u001b[1;33m-\u001b[0m\u001b[1;36m1\u001b[0m\u001b[1;33m,\u001b[0m\u001b[1;36m1\u001b[0m\u001b[1;33m]\u001b[0m \u001b[1;33m-\u001b[0m\u001b[1;36m2.0\u001b[0m\u001b[1;33m*\u001b[0m\u001b[0mxi\u001b[0m\u001b[1;33m[\u001b[0m\u001b[0mi\u001b[0m\u001b[1;33m,\u001b[0m\u001b[1;36m1\u001b[0m\u001b[1;33m]\u001b[0m\u001b[1;33m)\u001b[0m \u001b[1;33m/\u001b[0m\u001b[1;33m(\u001b[0m\u001b[0mpow\u001b[0m\u001b[1;33m(\u001b[0m\u001b[0mdx\u001b[0m\u001b[1;33m,\u001b[0m\u001b[1;36m2\u001b[0m\u001b[1;33m)\u001b[0m \u001b[1;33m)\u001b[0m\u001b[1;33m)\u001b[0m \u001b[1;33m-\u001b[0m\u001b[1;36m2\u001b[0m\u001b[1;33m*\u001b[0m\u001b[0mkappa\u001b[0m\u001b[1;33m*\u001b[0m\u001b[0mxi\u001b[0m\u001b[1;33m[\u001b[0m\u001b[0mi\u001b[0m\u001b[1;33m,\u001b[0m\u001b[1;36m1\u001b[0m\u001b[1;33m]\u001b[0m \u001b[1;33m-\u001b[0m\u001b[1;33m(\u001b[0m\u001b[1;33m-\u001b[0m\u001b[1;36m2\u001b[0m\u001b[1;33m*\u001b[0m\u001b[0mxi\u001b[0m\u001b[1;33m[\u001b[0m\u001b[0mi\u001b[0m\u001b[1;33m,\u001b[0m\u001b[1;36m1\u001b[0m\u001b[1;33m]\u001b[0m\u001b[1;33m+\u001b[0m\u001b[0mxi\u001b[0m\u001b[1;33m[\u001b[0m\u001b[0mi\u001b[0m\u001b[1;33m,\u001b[0m\u001b[1;36m0\u001b[0m\u001b[1;33m]\u001b[0m\u001b[1;33m)\u001b[0m \u001b[1;33m/\u001b[0m\u001b[0mdt\u001b[0m\u001b[1;33m)\u001b[0m\u001b[1;33m/\u001b[0m\u001b[1;33m(\u001b[0m\u001b[1;36m2\u001b[0m\u001b[1;33m*\u001b[0m\u001b[0mkappa\u001b[0m\u001b[1;33m+\u001b[0m\u001b[1;33m(\u001b[0m\u001b[1;36m1.\u001b[0m\u001b[1;33m/\u001b[0m\u001b[0mdt\u001b[0m\u001b[1;33m)\u001b[0m\u001b[1;33m)\u001b[0m\u001b[1;33m\u001b[0m\u001b[0m\n\u001b[1;32m---> 45\u001b[1;33m         \u001b[0mmiddlepositionlist\u001b[0m\u001b[1;33m=\u001b[0m\u001b[0mmiddlepositionlist\u001b[0m \u001b[1;33m+\u001b[0m \u001b[1;33m[\u001b[0m\u001b[0mxi\u001b[0m\u001b[1;33m[\u001b[0m\u001b[1;36m50\u001b[0m\u001b[1;33m,\u001b[0m\u001b[1;36m1\u001b[0m\u001b[1;33m]\u001b[0m\u001b[1;33m]\u001b[0m\u001b[1;33m\u001b[0m\u001b[0m\n\u001b[0m\u001b[0;32m     46\u001b[0m \u001b[1;33m\u001b[0m\u001b[0m\n\u001b[0;32m     47\u001b[0m     \u001b[0mvibst\u001b[0m\u001b[1;33m.\u001b[0m\u001b[0mclear\u001b[0m\u001b[1;33m(\u001b[0m\u001b[1;33m)\u001b[0m\u001b[1;33m\u001b[0m\u001b[0m\n",
      "\u001b[1;31mKeyboardInterrupt\u001b[0m: "
     ]
    }
   ],
   "source": [
    "from vpython import *\n",
    "import numpy as np\n",
    "scene1=canvas()\n",
    "x = np.zeros((100), float)\n",
    "y = np.zeros((100), float)\n",
    "middlepositionlist=[]\n",
    "# Set up curve\n",
    "g = canvas(canvas=scene1, width = 600, height = 300, title = 'Vibrating string')\n",
    "vibst = curve(vector(x[0],y[0],0), color = color.yellow)\n",
    "ball1 = sphere(pos = vector(100, 0,0), color = color.red, radius = 2)\n",
    "ball2 = sphere(pos = vector( - 100, 0,0), color = color.red, radius = 2)\n",
    "ball1.pos\n",
    "ball2.pos\n",
    "vibst.radius = 1.0\n",
    "                                           \n",
    "dt = 0.0001; dx = 0.01; T = 40; rho = 0.01\n",
    "maxtime = 100; kappa =0.1;  #this value of kappa is too small for stop the oscillation in the range of maxtime\n",
    "D=T/(rho*9.8)   #I define the constant D\n",
    "c=sqrt(T/rho)\n",
    "\n",
    "# Initialization\n",
    "xi = np.zeros((101,3), float)                 \n",
    "                                                   # initial boundary condition####\n",
    "                                                      \n",
    "for i in range(0, 101):     xi[i, 0] = 0.1*sin(i*pi/100);\n",
    "   \n",
    "    \n",
    "for i in range(0, 100):                                      # we use this mapping for better visualization\n",
    "    x[i] = 2.0*i - 100.0                            \n",
    "    y[i] = 300.*xi[i, 0]\n",
    "    vibst.append(vector(x[i],y[i],0))\n",
    "\n",
    "# Later time steps                  \n",
    "for i in range(1, 100): \n",
    "                                 ###Programming task: Add an expression to solve the wave equation (only the first step)####\n",
    "    xi[i,1]= (dt*(T/rho)*((xi[i+1,0]-xi[i,0])/dx*(exp((i-50)*dx/D) -exp(-(i-50)*dx/D))/D +(exp((i-50)*dx/D) +exp(-(i-50)*dx/D))* (xi[i+1,0]+xi[i-1,0]-2.0*xi[i,0] )/(pow(dx,2) ) ) -2*kappa*xi[i,0]+2*xi[i,0]/dt )/(2*kappa+(2./dt))\n",
    "   \n",
    "    \n",
    "    \n",
    "while 1:                               \n",
    "    rate(50)                                             # Plotting delay\n",
    "    for i in range(1, 100):              \n",
    "                            ####Programming task: Add an expression to solve the wave equation (for later time steps)####\n",
    "        xi[i,2]=(dt*(T/rho)*((xi[ i+1,1]-xi[i,1])/dx*(exp((i-50)*dx/D) - exp(-(i-50)*dx/D))/D + (exp((i-50)*dx/D) + exp(-(i-50)*dx/D)) * (xi[i+1,1]+xi[i-1,1] -2.0*xi[i,1]) /(pow(dx,2) )) -2*kappa*xi[i,1] -(-2*xi[i,1]+xi[i,0]) /dt)/(2*kappa+(1./dt))\n",
    "        middlepositionlist=middlepositionlist + [xi[50,1]]\n",
    "      \n",
    "    vibst.clear()\n",
    "    for i in range(1, 100):      # Scale for plot \n",
    "        x[i] = 2.0*i - 100.0                            \n",
    "        y[i] = 300.*xi[i, 0]\n",
    "        vibst.append(vector(x[i],y[i],0))                                                \n",
    "    for i in range(0, 101):\n",
    "        xi[i, 0] = xi[i, 1]                #We need to store only three time steps                         \n",
    "        xi[i, 1] = xi[i, 2]                      \n",
    "print(\"Done!\")"
   ]
  },
  {
   "cell_type": "code",
   "execution_count": 3,
   "metadata": {},
   "outputs": [
    {
     "data": {
      "image/png": "[encoded data removed]",
      "text/plain": [
       "<Figure size 432x288 with 1 Axes>"
      ]
     },
     "metadata": {},
     "output_type": "display_data"
    }
   ],
   "source": [
    "import matplotlib.pyplot as plt\n",
    "import numpy as np\n",
    "\n",
    "t = np.arange(0.0000, (len(middlepositionlist))*0.0001, 0.0001)\n",
    "s = middlepositionlist\n",
    "plt.plot(t, s)\n",
    "\n",
    "plt.xlim(0, 10) \n",
    "\n",
    "\n",
    "plt.xlabel('time(s)')\n",
    "plt.ylabel('middle point(m)')\n",
    "plt.title('position of the middle point vs time for κ=0.1')\n",
    "#plt.grid(True)\n",
    "plt.grid(False)\n",
    "\n",
    "plt.show()\n"
   ]
  },
  {
   "cell_type": "code",
   "execution_count": null,
   "metadata": {},
   "outputs": [],
   "source": [
    "'''Q2: kappa =0.1;   is a value too small for stop the oscillation in the range of maxtime(100s),althought,\n",
    "   In a longest time(more time running the code)the effect of kappa could be appreciated in the graph and the\n",
    "   oscillation eventually will stop.\n",
    "   \n",
    "   for  κ=−0.1 we can see how the wave grows in time and eventually it goes to infinity.\n",
    "   The reason for that is the violation of our assumption of small oscillations(and eventually the program crushes) \n",
    "   For getting the plot the position and the visualization of the string in this case run the following two codes"
   ]
  },
  {
   "cell_type": "code",
   "execution_count": 4,
   "metadata": {},
   "outputs": [
    {
     "data": {
      "text/html": [
       "<div id=\"glowscript\" class=\"glowscript\"></div>"
      ],
      "text/plain": [
       "<IPython.core.display.HTML object>"
      ]
     },
     "metadata": {},
     "output_type": "display_data"
    },
    {
     "data": {
      "application/javascript": [
       "window.__context = { glowscript_container: $(\"#glowscript\").removeAttr(\"id\")}"
      ],
      "text/plain": [
       "<IPython.core.display.Javascript object>"
      ]
     },
     "metadata": {},
     "output_type": "display_data"
    },
    {
     "data": {
      "text/html": [
       "<div id=\"glowscript\" class=\"glowscript\"></div>"
      ],
      "text/plain": [
       "<IPython.core.display.HTML object>"
      ]
     },
     "metadata": {},
     "output_type": "display_data"
    },
    {
     "data": {
      "application/javascript": [
       "window.__context = { glowscript_container: $(\"#glowscript\").removeAttr(\"id\")}"
      ],
      "text/plain": [
       "<IPython.core.display.Javascript object>"
      ]
     },
     "metadata": {},
     "output_type": "display_data"
    },
    {
     "ename": "KeyboardInterrupt",
     "evalue": "",
     "output_type": "error",
     "traceback": [
      "\u001b[1;31m---------------------------------------------------------------------------\u001b[0m",
      "\u001b[1;31mKeyboardInterrupt\u001b[0m                         Traceback (most recent call last)",
      "\u001b[1;32m<ipython-input-4-a058d57d9b9b>\u001b[0m in \u001b[0;36m<module>\u001b[1;34m()\u001b[0m\n\u001b[0;32m     43\u001b[0m                             \u001b[1;31m####Programming task: Add an expression to solve the wave equation (for later time steps)####\u001b[0m\u001b[1;33m\u001b[0m\u001b[1;33m\u001b[0m\u001b[0m\n\u001b[0;32m     44\u001b[0m         \u001b[0mxi\u001b[0m\u001b[1;33m[\u001b[0m\u001b[0mi\u001b[0m\u001b[1;33m,\u001b[0m\u001b[1;36m2\u001b[0m\u001b[1;33m]\u001b[0m\u001b[1;33m=\u001b[0m\u001b[1;33m(\u001b[0m\u001b[0mdt\u001b[0m\u001b[1;33m*\u001b[0m\u001b[1;33m(\u001b[0m\u001b[0mT\u001b[0m\u001b[1;33m/\u001b[0m\u001b[0mrho\u001b[0m\u001b[1;33m)\u001b[0m\u001b[1;33m*\u001b[0m\u001b[1;33m(\u001b[0m\u001b[1;33m(\u001b[0m\u001b[0mxi\u001b[0m\u001b[1;33m[\u001b[0m \u001b[0mi\u001b[0m\u001b[1;33m+\u001b[0m\u001b[1;36m1\u001b[0m\u001b[1;33m,\u001b[0m\u001b[1;36m1\u001b[0m\u001b[1;33m]\u001b[0m\u001b[1;33m-\u001b[0m\u001b[0mxi\u001b[0m\u001b[1;33m[\u001b[0m\u001b[0mi\u001b[0m\u001b[1;33m,\u001b[0m\u001b[1;36m1\u001b[0m\u001b[1;33m]\u001b[0m\u001b[1;33m)\u001b[0m\u001b[1;33m/\u001b[0m\u001b[0mdx\u001b[0m\u001b[1;33m*\u001b[0m\u001b[1;33m(\u001b[0m\u001b[0mexp\u001b[0m\u001b[1;33m(\u001b[0m\u001b[1;33m(\u001b[0m\u001b[0mi\u001b[0m\u001b[1;33m-\u001b[0m\u001b[1;36m50\u001b[0m\u001b[1;33m)\u001b[0m\u001b[1;33m*\u001b[0m\u001b[0mdx\u001b[0m\u001b[1;33m/\u001b[0m\u001b[0mD\u001b[0m\u001b[1;33m)\u001b[0m \u001b[1;33m-\u001b[0m \u001b[0mexp\u001b[0m\u001b[1;33m(\u001b[0m\u001b[1;33m-\u001b[0m\u001b[1;33m(\u001b[0m\u001b[0mi\u001b[0m\u001b[1;33m-\u001b[0m\u001b[1;36m50\u001b[0m\u001b[1;33m)\u001b[0m\u001b[1;33m*\u001b[0m\u001b[0mdx\u001b[0m\u001b[1;33m/\u001b[0m\u001b[0mD\u001b[0m\u001b[1;33m)\u001b[0m\u001b[1;33m)\u001b[0m\u001b[1;33m/\u001b[0m\u001b[0mD\u001b[0m \u001b[1;33m+\u001b[0m \u001b[1;33m(\u001b[0m\u001b[0mexp\u001b[0m\u001b[1;33m(\u001b[0m\u001b[1;33m(\u001b[0m\u001b[0mi\u001b[0m\u001b[1;33m-\u001b[0m\u001b[1;36m50\u001b[0m\u001b[1;33m)\u001b[0m\u001b[1;33m*\u001b[0m\u001b[0mdx\u001b[0m\u001b[1;33m/\u001b[0m\u001b[0mD\u001b[0m\u001b[1;33m)\u001b[0m \u001b[1;33m+\u001b[0m \u001b[0mexp\u001b[0m\u001b[1;33m(\u001b[0m\u001b[1;33m-\u001b[0m\u001b[1;33m(\u001b[0m\u001b[0mi\u001b[0m\u001b[1;33m-\u001b[0m\u001b[1;36m50\u001b[0m\u001b[1;33m)\u001b[0m\u001b[1;33m*\u001b[0m\u001b[0mdx\u001b[0m\u001b[1;33m/\u001b[0m\u001b[0mD\u001b[0m\u001b[1;33m)\u001b[0m\u001b[1;33m)\u001b[0m \u001b[1;33m*\u001b[0m \u001b[1;33m(\u001b[0m\u001b[0mxi\u001b[0m\u001b[1;33m[\u001b[0m\u001b[0mi\u001b[0m\u001b[1;33m+\u001b[0m\u001b[1;36m1\u001b[0m\u001b[1;33m,\u001b[0m\u001b[1;36m1\u001b[0m\u001b[1;33m]\u001b[0m\u001b[1;33m+\u001b[0m\u001b[0mxi\u001b[0m\u001b[1;33m[\u001b[0m\u001b[0mi\u001b[0m\u001b[1;33m-\u001b[0m\u001b[1;36m1\u001b[0m\u001b[1;33m,\u001b[0m\u001b[1;36m1\u001b[0m\u001b[1;33m]\u001b[0m \u001b[1;33m-\u001b[0m\u001b[1;36m2.0\u001b[0m\u001b[1;33m*\u001b[0m\u001b[0mxi\u001b[0m\u001b[1;33m[\u001b[0m\u001b[0mi\u001b[0m\u001b[1;33m,\u001b[0m\u001b[1;36m1\u001b[0m\u001b[1;33m]\u001b[0m\u001b[1;33m)\u001b[0m \u001b[1;33m/\u001b[0m\u001b[1;33m(\u001b[0m\u001b[0mpow\u001b[0m\u001b[1;33m(\u001b[0m\u001b[0mdx\u001b[0m\u001b[1;33m,\u001b[0m\u001b[1;36m2\u001b[0m\u001b[1;33m)\u001b[0m \u001b[1;33m)\u001b[0m\u001b[1;33m)\u001b[0m \u001b[1;33m-\u001b[0m\u001b[1;36m2\u001b[0m\u001b[1;33m*\u001b[0m\u001b[0mkappa\u001b[0m\u001b[1;33m*\u001b[0m\u001b[0mxi\u001b[0m\u001b[1;33m[\u001b[0m\u001b[0mi\u001b[0m\u001b[1;33m,\u001b[0m\u001b[1;36m1\u001b[0m\u001b[1;33m]\u001b[0m \u001b[1;33m-\u001b[0m\u001b[1;33m(\u001b[0m\u001b[1;33m-\u001b[0m\u001b[1;36m2\u001b[0m\u001b[1;33m*\u001b[0m\u001b[0mxi\u001b[0m\u001b[1;33m[\u001b[0m\u001b[0mi\u001b[0m\u001b[1;33m,\u001b[0m\u001b[1;36m1\u001b[0m\u001b[1;33m]\u001b[0m\u001b[1;33m+\u001b[0m\u001b[0mxi\u001b[0m\u001b[1;33m[\u001b[0m\u001b[0mi\u001b[0m\u001b[1;33m,\u001b[0m\u001b[1;36m0\u001b[0m\u001b[1;33m]\u001b[0m\u001b[1;33m)\u001b[0m \u001b[1;33m/\u001b[0m\u001b[0mdt\u001b[0m\u001b[1;33m)\u001b[0m\u001b[1;33m/\u001b[0m\u001b[1;33m(\u001b[0m\u001b[1;36m2\u001b[0m\u001b[1;33m*\u001b[0m\u001b[0mkappa\u001b[0m\u001b[1;33m+\u001b[0m\u001b[1;33m(\u001b[0m\u001b[1;36m1.\u001b[0m\u001b[1;33m/\u001b[0m\u001b[0mdt\u001b[0m\u001b[1;33m)\u001b[0m\u001b[1;33m)\u001b[0m\u001b[1;33m\u001b[0m\u001b[0m\n\u001b[1;32m---> 45\u001b[1;33m         \u001b[0mmiddlepositionlistnegative\u001b[0m\u001b[1;33m=\u001b[0m\u001b[0mmiddlepositionlistnegative\u001b[0m \u001b[1;33m+\u001b[0m \u001b[1;33m[\u001b[0m\u001b[0mxi\u001b[0m\u001b[1;33m[\u001b[0m\u001b[1;36m50\u001b[0m\u001b[1;33m,\u001b[0m\u001b[1;36m1\u001b[0m\u001b[1;33m]\u001b[0m\u001b[1;33m]\u001b[0m\u001b[1;33m\u001b[0m\u001b[0m\n\u001b[0m\u001b[0;32m     46\u001b[0m \u001b[1;33m\u001b[0m\u001b[0m\n\u001b[0;32m     47\u001b[0m     \u001b[0mvibst\u001b[0m\u001b[1;33m.\u001b[0m\u001b[0mclear\u001b[0m\u001b[1;33m(\u001b[0m\u001b[1;33m)\u001b[0m\u001b[1;33m\u001b[0m\u001b[0m\n",
      "\u001b[1;31mKeyboardInterrupt\u001b[0m: "
     ]
    }
   ],
   "source": [
    "from vpython import *\n",
    "import numpy as np\n",
    "scene1=canvas()\n",
    "x = np.zeros((100), float)\n",
    "y = np.zeros((100), float)\n",
    "middlepositionlistnegative=[]\n",
    "# Set up curve\n",
    "g = canvas(canvas=scene1, width = 600, height = 300, title = 'Vibrating string')\n",
    "vibst = curve(vector(x[0],y[0],0), color = color.yellow)\n",
    "ball1 = sphere(pos = vector(100, 0,0), color = color.red, radius = 2)\n",
    "ball2 = sphere(pos = vector( - 100, 0,0), color = color.red, radius = 2)\n",
    "ball1.pos\n",
    "ball2.pos\n",
    "vibst.radius = 1.0\n",
    "                                           \n",
    "dt = 0.0001; dx = 0.01; T = 40; rho = 0.01\n",
    "maxtime = 100; kappa =-1.7; \n",
    "D=T/(rho*9.8)   #I define the constant D\n",
    "c=sqrt(T/rho)\n",
    "\n",
    "# Initialization\n",
    "xi = np.zeros((101,3), float)                 \n",
    "                                                   # initial boundary condition####\n",
    "                                                      \n",
    "for i in range(0, 101):     xi[i, 0] = 0.1*sin(i*pi/100);\n",
    "   \n",
    "    \n",
    "for i in range(0, 100):                                      # we use this mapping for better visualization\n",
    "    x[i] = 2.0*i - 100.0                            \n",
    "    y[i] = 300.*xi[i, 0]\n",
    "    vibst.append(vector(x[i],y[i],0))\n",
    "\n",
    "# Later time steps                  \n",
    "for i in range(1, 100): \n",
    "                                 ###Programming task: Add an expression to solve the wave equation (only the first step)####\n",
    "    xi[i,1]= (dt*(T/rho)*((xi[i+1,0]-xi[i,0])/dx*(exp((i-50)*dx/D) -exp(-(i-50)*dx/D))/D +(exp((i-50)*dx/D) +exp(-(i-50)*dx/D))* (xi[i+1,0]+xi[i-1,0]-2.0*xi[i,0] )/(pow(dx,2) ) ) -2*kappa*xi[i,0]+2*xi[i,0]/dt )/(2*kappa+(2./dt))\n",
    "   \n",
    "    \n",
    "    \n",
    "while 1:                               \n",
    "    rate(50)                                             # Plotting delay\n",
    "    for i in range(1, 100):              \n",
    "                            ####Programming task: Add an expression to solve the wave equation (for later time steps)####\n",
    "        xi[i,2]=(dt*(T/rho)*((xi[ i+1,1]-xi[i,1])/dx*(exp((i-50)*dx/D) - exp(-(i-50)*dx/D))/D + (exp((i-50)*dx/D) + exp(-(i-50)*dx/D)) * (xi[i+1,1]+xi[i-1,1] -2.0*xi[i,1]) /(pow(dx,2) )) -2*kappa*xi[i,1] -(-2*xi[i,1]+xi[i,0]) /dt)/(2*kappa+(1./dt))\n",
    "        middlepositionlistnegative=middlepositionlistnegative + [xi[50,1]]\n",
    "      \n",
    "    vibst.clear()\n",
    "    for i in range(1, 100):      # Scale for plot \n",
    "        x[i] = 2.0*i - 100.0                            \n",
    "        y[i] = 300.*xi[i, 0]\n",
    "        vibst.append(vector(x[i],y[i],0))                                                \n",
    "    for i in range(0, 101):\n",
    "        xi[i, 0] = xi[i, 1]                #We need to store only three time steps                         \n",
    "        xi[i, 1] = xi[i, 2]                      \n",
    "print(\"Done!\")"
   ]
  },
  {
   "cell_type": "code",
   "execution_count": 5,
   "metadata": {},
   "outputs": [
    {
     "data": {
      "image/png": "[encoded data removed]",
      "text/plain": [
       "<Figure size 432x288 with 1 Axes>"
      ]
     },
     "metadata": {},
     "output_type": "display_data"
    }
   ],
   "source": [
    "import matplotlib.pyplot as plt\n",
    "import numpy as np\n",
    "\n",
    "t = np.arange(0.0000, len(middlepositionlistnegative)*0.0001, 0.0001)\n",
    "s = middlepositionlistnegative\n",
    "plt.plot(t, s)\n",
    "\n",
    "plt.xlim(0, 100) \n",
    "\n",
    "\n",
    "plt.xlabel('time(s)')\n",
    "plt.ylabel('middle point(m)')\n",
    "plt.title('position of the middle point vs time for κ=-0.1')\n",
    "#plt.grid(True)\n",
    "plt.grid(False)\n",
    "\n",
    "plt.show()\n"
   ]
  },
  {
   "cell_type": "code",
   "execution_count": null,
   "metadata": {},
   "outputs": [],
   "source": []
  }
 ],
 "metadata": {
  "kernelspec": {
   "display_name": "Python 3",
   "language": "python",
   "name": "python3"
  },
  "language_info": {
   "codemirror_mode": {
    "name": "ipython",
    "version": 3
   },
   "file_extension": ".py",
   "mimetype": "text/x-python",
   "name": "python",
   "nbconvert_exporter": "python",
   "pygments_lexer": "ipython3",
   "version": "3.6.5"
  }
 },
 "nbformat": 4,
 "nbformat_minor": 2
}
