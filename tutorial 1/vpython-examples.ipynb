{
 "cells": [
  {
   "cell_type": "markdown",
   "metadata": {},
   "source": [
    "# Sample 3D Objects and curves \n",
    "\n",
    "Here you'll find example plots and animations generated using vpython. Try to get comfortable with the syntax and workflow of python by modifying the codes. For example, change the plotting range, axis labels, mathematical functions that are plotted, or try to deliberately break the code to see how sensitive the lprogramming language is.\n",
    "\n",
    "Extra hints: Use Ctrl+left-click to rotate. Copy each code to a new notebook if the animations are slow.\n",
    "\n",
    "You can find more examples and documentation on http://vpython.org/"
   ]
  },
  {
   "cell_type": "code",
   "execution_count": 1,
   "metadata": {},
   "outputs": [
    {
     "data": {
      "application/javascript": [
       "require.undef(\"nbextensions/vpython_libraries/glow.min\");"
      ],
      "text/plain": [
       "<IPython.core.display.Javascript object>"
      ]
     },
     "metadata": {},
     "output_type": "display_data"
    },
    {
     "data": {
      "application/javascript": [
       "require.undef(\"nbextensions/vpython_libraries/glowcomm\");"
      ],
      "text/plain": [
       "<IPython.core.display.Javascript object>"
      ]
     },
     "metadata": {},
     "output_type": "display_data"
    },
    {
     "data": {
      "application/javascript": [
       "require.undef(\"nbextensions/vpython_libraries/jquery-ui.custom.min\");"
      ],
      "text/plain": [
       "<IPython.core.display.Javascript object>"
      ]
     },
     "metadata": {},
     "output_type": "display_data"
    },
    {
     "data": {
      "application/javascript": [
       "require([\"nbextensions/vpython_libraries/glow.min\"], function(){console.log(\"GLOW LOADED\");})"
      ],
      "text/plain": [
       "<IPython.core.display.Javascript object>"
      ]
     },
     "metadata": {},
     "output_type": "display_data"
    },
    {
     "data": {
      "application/javascript": [
       "require([\"nbextensions/vpython_libraries/glowcomm\"], function(){console.log(\"GLOWCOMM LOADED\");})"
      ],
      "text/plain": [
       "<IPython.core.display.Javascript object>"
      ]
     },
     "metadata": {},
     "output_type": "display_data"
    },
    {
     "data": {
      "application/javascript": [
       "require([\"nbextensions/vpython_libraries/jquery-ui.custom.min\"], function(){console.log(\"JQUERY LOADED\");})"
      ],
      "text/plain": [
       "<IPython.core.display.Javascript object>"
      ]
     },
     "metadata": {},
     "output_type": "display_data"
    },
    {
     "data": {
      "text/html": [
       "<div id=\"glowscript\" class=\"glowscript\"></div>"
      ],
      "text/plain": [
       "<IPython.core.display.HTML object>"
      ]
     },
     "metadata": {},
     "output_type": "display_data"
    },
    {
     "data": {
      "application/javascript": [
       "window.__context = { glowscript_container: $(\"#glowscript\").removeAttr(\"id\")}"
      ],
      "text/plain": [
       "<IPython.core.display.Javascript object>"
      ]
     },
     "metadata": {},
     "output_type": "display_data"
    },
    {
     "data": {
      "text/html": [
       "<div id=\"glowscript\" class=\"glowscript\"></div>"
      ],
      "text/plain": [
       "<IPython.core.display.HTML object>"
      ]
     },
     "metadata": {},
     "output_type": "display_data"
    },
    {
     "data": {
      "application/javascript": [
       "window.__context = { glowscript_container: $(\"#glowscript\").removeAttr(\"id\")}"
      ],
      "text/plain": [
       "<IPython.core.display.Javascript object>"
      ]
     },
     "metadata": {},
     "output_type": "display_data"
    }
   ],
   "source": [
    "from vpython import *\n",
    "# examples of 3D shapes\n",
    "graph1 = canvas(width=500, height=500, title='VPython 3-D Shapes', range=10)\n",
    "sphere(pos=vector(0,0,0), radius=1, color=color.green)\n",
    "sphere(pos= vector(0,1,-3), radius=1.5, color=color.red)\n",
    "arrow(pos= vector(3,2,2), axis=vector(3,1,1), color=color.cyan)\n",
    "cylinder(pos=vector(-3,-2,3), axis=vector(6,-1,5), color=color.yellow)\n",
    "cone(pos=vector(-6,-6,0), axis=vector(-2,1,-0.5), radius=2, color=color.magenta)\n",
    "helix(pos=vector(-5,5,-2), axis=vector(5,0,0), radius=2, thickness=0.4, color=color.orange)\n",
    "ring(pos=vector(-6,1,0), axis=vector(1,1,1), radius=2, thickness=0.3, color=vector(0.3,0.4,0.6))\n",
    "box(pos=vector(5,-2,2), length=5, width=5, height=0.4, color=vector(0.4,0.8,0.2))\n",
    "pyramid(pos=vector(2,5,2), size=vector(4,3,2), color=vector(0.7,0.7,0.2))\n",
    "ellipsoid(pos=vector(-1,-7,1), axis=vector(2,1,3), length=4, height=2, width=5, color=vector(0.1,0.9,0.8))"
   ]
  },
  {
   "cell_type": "code",
   "execution_count": null,
   "metadata": {},
   "outputs": [
    {
     "data": {
      "text/html": [
       "<div id=\"glowscript\" class=\"glowscript\"></div>"
      ],
      "text/plain": [
       "<IPython.core.display.HTML object>"
      ]
     },
     "metadata": {},
     "output_type": "display_data"
    },
    {
     "data": {
      "application/javascript": [
       "window.__context = { glowscript_container: $(\"#glowscript\").removeAttr(\"id\")}"
      ],
      "text/plain": [
       "<IPython.core.display.Javascript object>"
      ]
     },
     "metadata": {},
     "output_type": "display_data"
    }
   ],
   "source": [
    "\"\"\" From \"COMPUTATIONAL PHYSICS\", 3rd Ed, Enlarged Python eTextBook  \n",
    "    by RH Landau, MJ Paez, and CC Bordeianu\n",
    "    Copyright Wiley-VCH Verlag GmbH & Co. KGaA, Berlin;  Copyright R Landau,\n",
    "    Oregon State Unv, MJ Paez, Univ Antioquia, C Bordeianu, Univ Bucharest, 2015.\n",
    "    Support by National Science Foundation\"\"\"\n",
    "\n",
    "# 3Danimate.py:  3-D animation of circular polarized EM Wave \n",
    "\n",
    "from vpython import *      # import graphics routines\n",
    "import numpy as np                        \n",
    "\n",
    "xmax = 201                                      # number of x,y points\n",
    "scene = canvas(x=0, y=0, width= 500, height= 500, title= 'sin(6pi*x/201-t)',\n",
    "              background=vector(1.,1.,1.0), forward=vector(-0.6,-0.5,-1), range=400)    \n",
    "\n",
    "sinWave = curve(color=color.yellow, radius=4.5)\n",
    "cosWave = curve(color=color.red, radius=4.5)\n",
    "sumWave = curve(color=color.green, radius=4.5)\n",
    "Xaxis   = curve(pos=[vector(-300,0,0),vector(300,0,0)], color=color.blue)  \n",
    "t = 0                             # initial time\n",
    "dt = 0.02                           \n",
    "arr = arrow(color=color.orange)    # arrows for electric field\n",
    "arr2 = arrow(color=color.orange)\n",
    "arr3 = arrow(color=color.orange)\n",
    "x1 = pi/3                           # arrow1 x position\n",
    "x2 = 5*pi/6                         \n",
    "x3 = pi/7                           # arrow3 x position\n",
    "\n",
    "x = np.arange(0, pi, pi/xmax)\n",
    "\n",
    "#while False:\n",
    "while True:\n",
    "    rate(10)                       # limit < 200 iterations/s\n",
    "    \n",
    "   \n",
    "    xp = 200*x-300                  # screen coordinates\n",
    "    yp = 100*np.sin(6*x-t)         \n",
    "    zp = 100*np.cos(6*x-t) \n",
    "    \n",
    "    cosWave.clear()\n",
    "    sinWave.clear()\n",
    "    sumWave.clear()\n",
    "    for i in range(len(x[0:])):\n",
    "        sinWave.append(vector(xp[i],yp[i],0))\n",
    "    for i in range(len(x[0:])):\n",
    "        cosWave.append(vector(xp[i],0,zp[i])) \n",
    "    for i in range(len(x[0:])):\n",
    "        sumWave.append(vector(xp[i],yp[i],zp[i]))\n",
    "    \n",
    "    \n",
    "    x1p = x1*200-300            # linear transformation for arrow pos.\n",
    "    x2p = x2*200-300                  \n",
    "    x3p = x3*200-300\n",
    "    \n",
    "    arr.pos = vector(x1p,0,0) \n",
    "    arr2.pos = vector(x2p,0,0)\n",
    "    arr3.pos = vector(x3p,0,0)\n",
    "    \n",
    "    arr.axis = vector(0,100*sin(6*x1-t),100*cos(6*x1-t))  # arrow axis\n",
    "    arr2.axis = vector(0,100*sin(6*x2-t),100*cos(6*x2-t))\n",
    "    arr3.axis = vector(0,100*sin(6*x3-t),100*cos(6*x3-t))\n",
    "    \n",
    "  \n",
    "    t += dt   "
   ]
  },
  {
   "cell_type": "code",
   "execution_count": null,
   "metadata": {},
   "outputs": [
    {
     "data": {
      "text/html": [
       "<div id=\"glowscript\" class=\"glowscript\"></div>"
      ],
      "text/plain": [
       "<IPython.core.display.HTML object>"
      ]
     },
     "metadata": {},
     "output_type": "display_data"
    },
    {
     "data": {
      "application/javascript": [
       "window.__context = { glowscript_container: $(\"#glowscript\").removeAttr(\"id\")}"
      ],
      "text/plain": [
       "<IPython.core.display.Javascript object>"
      ]
     },
     "metadata": {},
     "output_type": "display_data"
    }
   ],
   "source": [
    "from vpython import *\n",
    "import numpy as np\n",
    "\n",
    "# This program solves for the motion of the wave packet inside a harmonic oscillator potential \n",
    "# initialize wave function, probability, potential\n",
    "dx = 0.04;    dx2 = dx*dx;  k0 = 3.5*pi;  dt = dx2/20.0;  xmax = 6.0\n",
    "xs = np.arange(-xmax,xmax+dx/2,2*dx)             # array of x positions\n",
    "\n",
    "psr = np.exp(-0.5*(xs/0.5)**2) * np.cos(k0*xs)           # Re wave function Psi\n",
    "psi = np.exp(-0.5*(xs/0.5)**2) * np.sin(k0*xs)           # Im wave function Psi\n",
    "v = 15.0*xs**2\n",
    "ys=  4*(psr**2 + psi**2)\n",
    "\n",
    "g=canvas(width=500,height=250,title='Wave Packet in HO Potential')\n",
    "\n",
    "PlotObj=curve(vector(xs[0],ys[0],0),vector(xs[1],ys[1],0), color=color.yellow, radius=0.1)\n",
    "g.center = vector(0,2,0)\n",
    "\n",
    "for i in range(len(xs[2:])):\n",
    "   PlotObj.append(vector(xs[i],ys[i],0))\n",
    "\n",
    "while True:                                                # Runs forever\n",
    "   rate(50)\n",
    "   psr[1:-1] = psr[1:-1] - (dt/dx2)*(psi[2:]+psi[:-2]-2*psi[1:-1]) +dt*v[1:-1]*psi[1:-1]\n",
    "   psi[1:-1] = psi[1:-1] + (dt/dx2)*(psr[2:]+psr[:-2]-2*psr[1:-1]) -dt*v[1:-1]*psr[1:-1]\n",
    "   ys=  4*(psr**2 + psi**2)\n",
    "   PlotObj.clear()\n",
    "   for i in range(len(xs[0:])):\n",
    "       PlotObj.append(vector(xs[i],ys[i],0))   "
   ]
  },
  {
   "cell_type": "code",
   "execution_count": null,
   "metadata": {},
   "outputs": [],
   "source": []
  }
 ],
 "metadata": {
  "kernelspec": {
   "display_name": "Python 3",
   "language": "python",
   "name": "python3"
  },
  "language_info": {
   "codemirror_mode": {
    "name": "ipython",
    "version": 3
   },
   "file_extension": ".py",
   "mimetype": "text/x-python",
   "name": "python",
   "nbconvert_exporter": "python",
   "pygments_lexer": "ipython3",
   "version": "3.6.5"
  }
 },
 "nbformat": 4,
 "nbformat_minor": 2
}
